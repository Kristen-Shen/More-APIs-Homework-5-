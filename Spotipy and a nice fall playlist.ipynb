{
 "cells": [
  {
   "cell_type": "markdown",
   "id": "83f64854-1058-409f-9528-736cb0602e04",
   "metadata": {},
   "source": [
    "#### Kristen Shen\n",
    "#### Homework 05 - Part Three: Spotify API (Music again!)\n",
    "#### 11/11/2024"
   ]
  },
  {
   "cell_type": "markdown",
   "id": "799843fb",
   "metadata": {},
   "source": [
    "In this notebook you'll be using [Spotipy](https://github.com/spotipy-dev/spotipy), a Python package, to talk to the Spotify API. This means you won't have to manually create API URLs, you'll just need to figure out how to make Spotipy do it for you! The full Spotipy documentation is available at [https://spotipy.readthedocs.io/](https://spotipy.readthedocs.io/)\n",
    "\n",
    "# To access *public* Spotify data\n",
    "\n",
    "You'll want to go to the [Spotify for Developers Dashboard](https://developer.spotify.com/dashboard) and create a new app. This will give you a `client_id` and `client_secret`! It's like a super-advanced version of an API key. When you're setting up your app it will probably also ask you for other things like a redirect URL - just put whatever you want in there, it doesn't matter. If it asks what you want access to, you can pick the Web API (but I don't think it matters).\n",
    "\n",
    "> The code below won't work since it's *my* secret keys. I've deleted them so that this notebook is nice and safe for me!"
   ]
  },
  {
   "cell_type": "code",
   "execution_count": 14,
   "id": "b53ee125-9349-4434-8e01-5369c4145342",
   "metadata": {},
   "outputs": [],
   "source": [
    "import spotipy\n",
    "from spotipy.oauth2 import SpotifyClientCredentials\n",
    "\n",
    "sp = spotipy.Spotify(auth_manager=SpotifyClientCredentials(\n",
    "    client_id='XXXXXXXXXXXXXXXXX',\n",
    "    client_secret='XXXXXXXXXXXXXXXXX',\n",
    "))"
   ]
  },
  {
   "cell_type": "markdown",
   "id": "df431b17",
   "metadata": {},
   "source": [
    "When you want data from Spotify, you can't just go to `/artists/Pixies` in order to get work by Pixies! You have to find a special code for the artist (or song, or album, or whatever). It's called the `uri`.\n",
    "\n",
    "> You can find more details on searching [on the Spotipy documentation](https://spotipy.readthedocs.io/en/2.22.1/#spotipy.client.Spotify.search) or the [Spotify Web API documentation](https://developer.spotify.com/documentation/web-api/reference/search). Remember that Spotipy is a Python wrapper for the Spotify API, so you don't need to work with any URLs!\n",
    "\n",
    "To find the `uri`, you first need to do a search. Below we use `sp.search` to search for a particular artist."
   ]
  },
  {
   "cell_type": "code",
   "execution_count": 2,
   "id": "23ca8854-ccdf-4225-b542-c2dc113bd8e7",
   "metadata": {},
   "outputs": [],
   "source": [
    "# Search for the artist Pixies\n",
    "results = sp.search(q='artist:Pixies', type='artist')"
   ]
  },
  {
   "cell_type": "markdown",
   "id": "7721bc81",
   "metadata": {},
   "source": [
    "The `results` it shows us is awful and long and terrible. Instead of showing you how to do that, I already poked through it and found the top artist result from our search."
   ]
  },
  {
   "cell_type": "code",
   "execution_count": null,
   "id": "2b8eed9b-b34e-419e-b621-7246f5437f4b",
   "metadata": {},
   "outputs": [],
   "source": [
    "results['artists']['items'][0]"
   ]
  },
  {
   "cell_type": "markdown",
   "id": "f9c8b4d0",
   "metadata": {},
   "source": [
    "There we go! The `uri` looks to be `spotify:artist:6zvul52xwTWzilBZl6BUbT`.\n",
    "\n",
    "Now the sad part: the Spotipy documentation is...... not great. The Spotify Web API docs look good, *but* we're using the Python wrapper, not the raw Spotify API! Luckily Spotipy has a great [list of examples](https://github.com/spotipy-dev/spotipy/tree/master/examples), including one for [an artist's top tracks](https://github.com/spotipy-dev/spotipy/blob/master/examples/simple_artist_top_tracks.py).\n",
    "\n",
    "```python\n",
    "from spotipy.oauth2 import SpotifyClientCredentials\n",
    "import spotipy\n",
    "\n",
    "lz_uri = 'spotify:artist:36QJpDe2go2KgaRleHCDTp'\n",
    "\n",
    "client_credentials_manager = SpotifyClientCredentials()\n",
    "sp = spotipy.Spotify(client_credentials_manager=client_credentials_manager)\n",
    "\n",
    "results = sp.artist_top_tracks(lz_uri)\n",
    "\n",
    "for track in results['tracks'][:10]:\n",
    "    print('track    : ' + track['name'])\n",
    "    print('audio    : ' + track['preview_url'])\n",
    "    print('cover art: ' + track['album']['images'][0]['url'])\n",
    "```\n",
    "\n",
    "Since we already have the credentials and blah blah blah set up, all we need to do is adapt the `sp.artist_top_tracks(lz_uri)` line and everything below it."
   ]
  },
  {
   "cell_type": "code",
   "execution_count": null,
   "id": "947ff2a4-1be0-4dc5-9eeb-0a0dff9fff4f",
   "metadata": {},
   "outputs": [],
   "source": [
    "results = sp.artist_top_tracks('spotify:artist:6zvul52xwTWzilBZl6BUbT')\n",
    "\n",
    "for track in results['tracks'][:10]:\n",
    "    print(track['name'])"
   ]
  },
  {
   "cell_type": "markdown",
   "id": "e5a7a659",
   "metadata": {},
   "source": [
    "And that's about it! You use magic codes and it lets you get up-to-date information."
   ]
  },
  {
   "cell_type": "markdown",
   "id": "3ef05e15",
   "metadata": {},
   "source": [
    "# Your mission\n",
    "\n",
    "I recently came across a Spotify playlist called [Fall in a 90s Suburb](https://open.spotify.com/playlist/7r2XnAUl6moWkcwOaWgihD?si=505c8f22f4314a33) while researching the band [SEAGULL SCREAMING KISS HER KISS HER](https://open.spotify.com/artist/1WSO9nf7wTj5DZBsncauGr?si=S0xpngxHR1mLF720lMZwxg). The playlist was pretty good, but since since SSKHKH only has like 1,500 listeners each month I was curious about the most/least popular songs on the playlist.\n",
    "\n",
    "## My questions\n",
    "\n",
    "1. What are the ten most popular songs on the playlist?\n",
    "2. What percentage of them have a popularity of zero? Print them out, sorted by the band name.\n",
    "3. Is popularity relative to the artist, the album, all songs on Spotify, or something else?\n",
    "\n",
    "### My suggested approach\n",
    "\n",
    "I suggest approaching this through the following steps:\n",
    "\n",
    "1. Getting the playlist and print out its **name and description**. \n",
    "2. Print out **the name and popularity of each song**\n",
    "3. Print out **the name, popularity, and artists** of each track on the playlist. Or, if you'd like a shortcut, just pick the first artist.\n",
    "4. Instead of printing, use these to **create a new dictionary** each time you look at a track. Print out this dictionary. You should be printing out 476 dictionaries!\n",
    "5. Printing isn't helpful! Instead, after you create the dictionary **append it** to a list called `all_tracks`\n",
    "6. When you're done, `all_tracks` should have 476 items in it\n",
    "7. Sort the list by `popularity`, take the **top ten**\n",
    "8. Filter the list by `popularity`, selecting only the ones with a popularity of `0`\n",
    "\n",
    "### Tips\n",
    "\n",
    "**Spotipy documentation:** https://spotipy.readthedocs.io/\n",
    "\n",
    "**Spotify Web API documentation:** https://developer.spotify.com/documentation/web-api/\n",
    "\n",
    "- Do this in many, many cells, not all in one!\n",
    "- You definitely want to [look at the Spotipy examples](https://github.com/spotipy-dev/spotipy/tree/master/examples) to find some good code to base your answer off of. There are a handful that talk about playlists – it might be helpful to read and compare a few of them!\n",
    "- Getting the playlist name/description is **a different endpoint** than getting the actual songs on the playlist.\n",
    "- Are you printing out the **same number of tracks as are in the actual playlist?** Take note and be careful! It should be ~476.\n",
    "- If you're getting the id of playlist songs but not seeing song names, look for `fields='items.track.id,total` in your code. It's only pulling the track's id! Change it to `items.track,total` and it will return [more information about each track](https://developer.spotify.com/documentation/web-api/reference/get-playlists-tracks)\n",
    "- `all_tracks = []` should be the first line in your cell. That makes sure it always resets to being empty before you start adding tracks to it.\n",
    "- Be sure the first and last items in `all_tracks` are different – maybe you're accidentally adding the same item each time!\n",
    "- Normally we sort lists of numbers, which is easy. Sorting a list of dictionaries can be done easily with `key=`. Look it up!\n",
    "- Pick the most popular 10 songs using list comprehensions\n",
    "- Filtering is best done with a list comprehension.\n",
    "- You can sort by things that aren't numbers!"
   ]
  },
  {
   "cell_type": "code",
   "execution_count": 5,
   "id": "7f1b4694-a850-45ec-adc1-8ba9a14a232d",
   "metadata": {},
   "outputs": [
    {
     "name": "stdout",
     "output_type": "stream",
     "text": [
      "Collecting spotipy\n",
      "  Downloading spotipy-2.24.0-py3-none-any.whl.metadata (4.9 kB)\n",
      "Collecting redis>=3.5.3 (from spotipy)\n",
      "  Downloading redis-5.2.0-py3-none-any.whl.metadata (9.1 kB)\n",
      "Requirement already satisfied: requests>=2.25.0 in /Users/river_one/.pyenv/versions/3.12.7/lib/python3.12/site-packages (from spotipy) (2.32.3)\n",
      "Requirement already satisfied: urllib3>=1.26.0 in /Users/river_one/.pyenv/versions/3.12.7/lib/python3.12/site-packages (from spotipy) (2.2.3)\n",
      "Requirement already satisfied: charset-normalizer<4,>=2 in /Users/river_one/.pyenv/versions/3.12.7/lib/python3.12/site-packages (from requests>=2.25.0->spotipy) (3.4.0)\n",
      "Requirement already satisfied: idna<4,>=2.5 in /Users/river_one/.pyenv/versions/3.12.7/lib/python3.12/site-packages (from requests>=2.25.0->spotipy) (3.10)\n",
      "Requirement already satisfied: certifi>=2017.4.17 in /Users/river_one/.pyenv/versions/3.12.7/lib/python3.12/site-packages (from requests>=2.25.0->spotipy) (2024.8.30)\n",
      "Downloading spotipy-2.24.0-py3-none-any.whl (30 kB)\n",
      "Downloading redis-5.2.0-py3-none-any.whl (261 kB)\n",
      "Installing collected packages: redis, spotipy\n",
      "Successfully installed redis-5.2.0 spotipy-2.24.0\n",
      "\n",
      "\u001b[1m[\u001b[0m\u001b[34;49mnotice\u001b[0m\u001b[1;39;49m]\u001b[0m\u001b[39;49m A new release of pip is available: \u001b[0m\u001b[31;49m24.2\u001b[0m\u001b[39;49m -> \u001b[0m\u001b[32;49m24.3.1\u001b[0m\n",
      "\u001b[1m[\u001b[0m\u001b[34;49mnotice\u001b[0m\u001b[1;39;49m]\u001b[0m\u001b[39;49m To update, run: \u001b[0m\u001b[32;49mpip install --upgrade pip\u001b[0m\n",
      "Note: you may need to restart the kernel to use updated packages.\n"
     ]
    }
   ],
   "source": [
    "# setting up\n",
    "pip install spotipy --upgrade"
   ]
  },
  {
   "cell_type": "code",
   "execution_count": 6,
   "id": "1838644f-4877-41dd-b234-b8253d5bb354",
   "metadata": {},
   "outputs": [
    {
     "name": "stdout",
     "output_type": "stream",
     "text": [
      "Requirement already satisfied: pip in /Users/river_one/.pyenv/versions/3.12.7/lib/python3.12/site-packages (24.2)\n",
      "Collecting pip\n",
      "  Using cached pip-24.3.1-py3-none-any.whl.metadata (3.7 kB)\n",
      "Using cached pip-24.3.1-py3-none-any.whl (1.8 MB)\n",
      "Installing collected packages: pip\n",
      "  Attempting uninstall: pip\n",
      "    Found existing installation: pip 24.2\n",
      "    Uninstalling pip-24.2:\n",
      "      Successfully uninstalled pip-24.2\n",
      "Successfully installed pip-24.3.1\n",
      "Note: you may need to restart the kernel to use updated packages.\n"
     ]
    }
   ],
   "source": [
    "pip install --upgrade pip"
   ]
  },
  {
   "cell_type": "markdown",
   "id": "9ba70bf8-5796-4ea0-a09f-25afca79a998",
   "metadata": {},
   "source": [
    "#### Suggestion 1. Getting the playlist and print out its name and description."
   ]
  },
  {
   "cell_type": "code",
   "execution_count": 3,
   "id": "f97ae547",
   "metadata": {},
   "outputs": [
    {
     "name": "stdout",
     "output_type": "stream",
     "text": [
      "Requirement already satisfied: python-dotenv in /Users/river_one/.pyenv/versions/3.12.7/lib/python3.12/site-packages (1.0.1)\n",
      "Note: you may need to restart the kernel to use updated packages.\n"
     ]
    }
   ],
   "source": [
    "pip install python-dotenv"
   ]
  },
  {
   "cell_type": "code",
   "execution_count": 10,
   "id": "9c67db5f-137a-46b4-abf9-1636666be437",
   "metadata": {},
   "outputs": [],
   "source": [
    "# not include my personal info here\n",
    "from dotenv import load_dotenv\n",
    "import os\n",
    "\n",
    "load_dotenv()\n",
    "\n",
    "client_id = os.getenv(\"client_id\")\n",
    "client_secret= os.getenv(\"client_secret\")"
   ]
  },
  {
   "cell_type": "code",
   "execution_count": 15,
   "id": "99824971-7ef0-450b-8ab8-de6f9f454e4d",
   "metadata": {},
   "outputs": [],
   "source": [
    "import spotipy\n",
    "from spotipy.oauth2 import SpotifyClientCredentials\n",
    "\n",
    "sp = spotipy.Spotify(auth_manager=SpotifyClientCredentials(\n",
    "    client_id = f\"{client_id}\",\n",
    "    client_secret= f\"{client_secret}\",\n",
    "))"
   ]
  },
  {
   "cell_type": "code",
   "execution_count": 4,
   "id": "349bf3c5-af66-4200-b101-885327f8a30e",
   "metadata": {},
   "outputs": [
    {
     "data": {
      "text/plain": [
       "dict_keys(['collaborative', 'description', 'external_urls', 'followers', 'href', 'id', 'images', 'name', 'owner', 'primary_color', 'public', 'snapshot_id', 'tracks', 'type', 'uri'])"
      ]
     },
     "execution_count": 4,
     "metadata": {},
     "output_type": "execute_result"
    }
   ],
   "source": [
    "# get the playlist id\n",
    "playlist_id = \"7r2XnAUl6moWkcwOaWgihD\"\n",
    "\n",
    "# Get playlist details\n",
    "playlist = sp.playlist(playlist_id)\n",
    "\n",
    "# check the keys in the dictioinary playlist\n",
    "playlist.keys()"
   ]
  },
  {
   "cell_type": "code",
   "execution_count": 5,
   "id": "c82ec12e-7e5e-4bc4-9c9e-7c265fc21563",
   "metadata": {},
   "outputs": [
    {
     "name": "stdout",
     "output_type": "stream",
     "text": [
      "Playlist Name: Fall in a 90s Suburb 🍂 \n",
      "-------\n",
      "Description: fuzzy guitars from the 80s, 90s &amp; early 00s for feeling angsty as the seasons change.  put on a sweater and listen to some indie rock, shoegaze, and noisy twee.\n"
     ]
    }
   ],
   "source": [
    "# Print name and description\n",
    "print(f\"Playlist Name: {playlist['name']}\")\n",
    "print(\"-------\")\n",
    "print(f\"Description: {playlist['description']}\")"
   ]
  },
  {
   "cell_type": "markdown",
   "id": "ab3906c0-c9c9-49b8-b0c5-afac12dd5155",
   "metadata": {},
   "source": [
    "#### Suggestion 2. Print out the name and popularity of each song"
   ]
  },
  {
   "cell_type": "code",
   "execution_count": 6,
   "id": "de91c24a-f71c-4f4b-af3a-8de5898b89cc",
   "metadata": {},
   "outputs": [],
   "source": [
    "# Get playlist tracks\n",
    "playlist_tracks = sp.playlist_tracks(playlist_id)\n",
    "# playlist_tracks\n",
    "# check for keys in this dictionary\n",
    "# playlist_tracks.keys()\n",
    "# check the first item of this list\n",
    "# playlist_tracks['items'][0]"
   ]
  },
  {
   "cell_type": "code",
   "execution_count": 7,
   "id": "92954cae-2866-4069-a9e8-e5fcae589d93",
   "metadata": {},
   "outputs": [
    {
     "data": {
      "text/plain": [
       "dict_keys(['added_at', 'added_by', 'is_local', 'primary_color', 'track', 'video_thumbnail'])"
      ]
     },
     "execution_count": 7,
     "metadata": {},
     "output_type": "execute_result"
    }
   ],
   "source": [
    "# check the keys in this dictionary\n",
    "playlist_tracks['items'][0].keys()"
   ]
  },
  {
   "cell_type": "code",
   "execution_count": 8,
   "id": "65cdb95e-d13f-46f6-923d-b4392097f62b",
   "metadata": {},
   "outputs": [
    {
     "data": {
      "text/plain": [
       "dict_keys(['preview_url', 'available_markets', 'explicit', 'type', 'episode', 'track', 'album', 'artists', 'disc_number', 'track_number', 'duration_ms', 'external_ids', 'external_urls', 'href', 'id', 'name', 'popularity', 'uri', 'is_local'])"
      ]
     },
     "execution_count": 8,
     "metadata": {},
     "output_type": "execute_result"
    }
   ],
   "source": [
    "# check the keys in this dictionary\n",
    "playlist_tracks['items'][0]['track'].keys()"
   ]
  },
  {
   "cell_type": "code",
   "execution_count": 55,
   "id": "3a87ced2-6d6f-4ed3-96c3-706859d68951",
   "metadata": {},
   "outputs": [],
   "source": [
    "# confirm I could get the info I want\n",
    "# playlist_tracks['items'][0]['track']['name']"
   ]
  },
  {
   "cell_type": "code",
   "execution_count": 56,
   "id": "391c03a1-ea98-46de-bf1d-ffccbbb41f8d",
   "metadata": {},
   "outputs": [],
   "source": [
    "# playlist_tracks['items'][0]['track']['popularity']"
   ]
  },
  {
   "cell_type": "code",
   "execution_count": 9,
   "id": "862a2aa4-e195-477a-8353-487d5cf44735",
   "metadata": {},
   "outputs": [
    {
     "name": "stdout",
     "output_type": "stream",
     "text": [
      "Track Name: Waiting For October\n",
      "-----\n",
      "Popularity: 28\n",
      "Track Name: Scott Pilgrim\n",
      "-----\n",
      "Popularity: 44\n",
      "Track Name: Ginger\n",
      "-----\n",
      "Popularity: 24\n",
      "Track Name: Frontwards\n",
      "-----\n",
      "Popularity: 0\n",
      "Track Name: First Revival\n",
      "-----\n",
      "Popularity: 0\n",
      "Track Name: I Can See It (But I Can't Feel It)\n",
      "-----\n",
      "Popularity: 27\n",
      "Track Name: Skyscraper\n",
      "-----\n",
      "Popularity: 12\n",
      "Track Name: Jar Of Cardinals\n",
      "-----\n",
      "Popularity: 21\n",
      "Track Name: Get Back\n",
      "-----\n",
      "Popularity: 34\n",
      "Track Name: Tripoli\n",
      "-----\n",
      "Popularity: 0\n",
      "Track Name: Everything Flows\n",
      "-----\n",
      "Popularity: 0\n",
      "Track Name: (When You Wake) You're Still in a Dream\n",
      "-----\n",
      "Popularity: 27\n",
      "Track Name: Barnaby, Hardly Working\n",
      "-----\n",
      "Popularity: 0\n",
      "Track Name: Nail Clinic\n",
      "-----\n",
      "Popularity: 0\n",
      "Track Name: Number One Blind\n",
      "-----\n",
      "Popularity: 35\n",
      "Track Name: Green Grow The Rushes\n",
      "-----\n",
      "Popularity: 24\n",
      "Track Name: Don't Look Back\n",
      "-----\n",
      "Popularity: 21\n",
      "Track Name: Sweetness and Light\n",
      "-----\n",
      "Popularity: 0\n",
      "Track Name: Marzipan\n",
      "-----\n",
      "Popularity: 0\n",
      "Track Name: The Backyard\n",
      "-----\n",
      "Popularity: 29\n",
      "Track Name: Box Elder\n",
      "-----\n",
      "Popularity: 0\n",
      "Track Name: Polar Bear - 2001 Remaster\n",
      "-----\n",
      "Popularity: 25\n",
      "Track Name: Tripping Me Up\n",
      "-----\n",
      "Popularity: 28\n",
      "Track Name: Taste - 2001 Remaster\n",
      "-----\n",
      "Popularity: 28\n",
      "Track Name: Does This Hurt?\n",
      "-----\n",
      "Popularity: 15\n",
      "Track Name: Something More\n",
      "-----\n",
      "Popularity: 23\n",
      "Track Name: The Light That Will Cease To Fail\n",
      "-----\n",
      "Popularity: 0\n",
      "Track Name: You Have a Light\n",
      "-----\n",
      "Popularity: 6\n",
      "Track Name: Gold Star For Robot Boy\n",
      "-----\n",
      "Popularity: 30\n",
      "Track Name: Big Sky\n",
      "-----\n",
      "Popularity: 0\n",
      "Track Name: My Broken Heart\n",
      "-----\n",
      "Popularity: 0\n",
      "Track Name: Gravity's Bringing Us Down\n",
      "-----\n",
      "Popularity: 12\n",
      "Track Name: Dreams Burn Down - 2001 Remaster\n",
      "-----\n",
      "Popularity: 31\n",
      "Track Name: Cherry Chapstick\n",
      "-----\n",
      "Popularity: 0\n",
      "Track Name: All the Umbrellas in London\n",
      "-----\n",
      "Popularity: 35\n",
      "Track Name: Into Your Arms\n",
      "-----\n",
      "Popularity: 0\n",
      "Track Name: Drown\n",
      "-----\n",
      "Popularity: 60\n",
      "Track Name: John Cage Bubblegum\n",
      "-----\n",
      "Popularity: 0\n",
      "Track Name: Can't Hardly Wait - The Tim Version\n",
      "-----\n",
      "Popularity: 18\n",
      "Track Name: Straight On Home\n",
      "-----\n",
      "Popularity: 3\n",
      "Track Name: Fog Over Frisco\n",
      "-----\n",
      "Popularity: 0\n",
      "Track Name: Lazy Heart\n",
      "-----\n",
      "Popularity: 0\n",
      "Track Name: Rose Parade\n",
      "-----\n",
      "Popularity: 0\n",
      "Track Name: Sitting Still\n",
      "-----\n",
      "Popularity: 30\n",
      "Track Name: The Best Of Jill Hives\n",
      "-----\n",
      "Popularity: 0\n",
      "Track Name: Sparky's Dream\n",
      "-----\n",
      "Popularity: 34\n",
      "Track Name: Like a Daydream - 2001 Remaster\n",
      "-----\n",
      "Popularity: 18\n",
      "Track Name: Fortunately Gone\n",
      "-----\n",
      "Popularity: 0\n",
      "Track Name: Decora\n",
      "-----\n",
      "Popularity: 0\n",
      "Track Name: 16\n",
      "-----\n",
      "Popularity: 0\n",
      "Track Name: Seed Toss\n",
      "-----\n",
      "Popularity: 0\n",
      "Track Name: Sleeping in the Beetle Bug\n",
      "-----\n",
      "Popularity: 0\n",
      "Track Name: Cannonball\n",
      "-----\n",
      "Popularity: 0\n",
      "Track Name: Fling\n",
      "-----\n",
      "Popularity: 0\n",
      "Track Name: Feel the Pain\n",
      "-----\n",
      "Popularity: 49\n",
      "Track Name: December\n",
      "-----\n",
      "Popularity: 25\n",
      "Track Name: Elevate Me Later\n",
      "-----\n",
      "Popularity: 0\n",
      "Track Name: Hey Sandy\n",
      "-----\n",
      "Popularity: 36\n",
      "Track Name: Things\n",
      "-----\n",
      "Popularity: 2\n",
      "Track Name: Glowworm\n",
      "-----\n",
      "Popularity: 15\n",
      "Track Name: Lazy Day\n",
      "-----\n",
      "Popularity: 20\n",
      "Track Name: International Colouring Contest\n",
      "-----\n",
      "Popularity: 0\n",
      "Track Name: Post-Paint Boy\n",
      "-----\n",
      "Popularity: 0\n",
      "Track Name: Bluebeard - Remastered 2006\n",
      "-----\n",
      "Popularity: 0\n",
      "Track Name: Rebound - Remastered\n",
      "-----\n",
      "Popularity: 0\n",
      "Track Name: Gouge Away\n",
      "-----\n",
      "Popularity: 0\n",
      "Track Name: When You Sleep\n",
      "-----\n",
      "Popularity: 59\n",
      "Track Name: Swing For Life\n",
      "-----\n",
      "Popularity: 9\n",
      "Track Name: Cybele's Reverie\n",
      "-----\n",
      "Popularity: 0\n",
      "Track Name: Know Your Onion!\n",
      "-----\n",
      "Popularity: 0\n",
      "Track Name: Alcoholiday\n",
      "-----\n",
      "Popularity: 22\n",
      "Track Name: Water\n",
      "-----\n",
      "Popularity: 17\n",
      "Track Name: Don't Call Home\n",
      "-----\n",
      "Popularity: 0\n",
      "Track Name: Throw Aggi Off the Bridge\n",
      "-----\n",
      "Popularity: 0\n",
      "Track Name: Sounds Of Sebring\n",
      "-----\n",
      "Popularity: 29\n",
      "Track Name: Sick of Myself\n",
      "-----\n",
      "Popularity: 40\n",
      "Track Name: Paper Thin Walls\n",
      "-----\n",
      "Popularity: 45\n",
      "Track Name: My Forgotten Favorite\n",
      "-----\n",
      "Popularity: 24\n",
      "Track Name: Mouse Trap - 2001 Remaster\n",
      "-----\n",
      "Popularity: 24\n",
      "Track Name: Tone Burst [Country]\n",
      "-----\n",
      "Popularity: 0\n",
      "Track Name: Born on a Train\n",
      "-----\n",
      "Popularity: 0\n",
      "Track Name: Hewletts Daughter\n",
      "-----\n",
      "Popularity: 32\n",
      "Track Name: Ballad Of Big Nothing\n",
      "-----\n",
      "Popularity: 0\n",
      "Track Name: I Can't Stop Your Memory\n",
      "-----\n",
      "Popularity: 0\n",
      "Track Name: Canada\n",
      "-----\n",
      "Popularity: 16\n",
      "Track Name: Don’t Stop Now\n",
      "-----\n",
      "Popularity: 0\n",
      "Track Name: I've Been Broken (I've Been Fixed)\n",
      "-----\n",
      "Popularity: 7\n",
      "Track Name: Stereo\n",
      "-----\n",
      "Popularity: 0\n",
      "Track Name: A.M. 180\n",
      "-----\n",
      "Popularity: 0\n",
      "Track Name: Second Birthday\n",
      "-----\n",
      "Popularity: 17\n",
      "Track Name: Get Me Away From Here, I'm Dying\n",
      "-----\n",
      "Popularity: 0\n",
      "Track Name: Honey Power (EP Version)\n",
      "-----\n",
      "Popularity: 26\n",
      "Track Name: Season of the Shark\n",
      "-----\n",
      "Popularity: 0\n",
      "Track Name: You're Not The Only One I Know\n",
      "-----\n",
      "Popularity: 26\n",
      "Track Name: Boyfriendship\n",
      "-----\n",
      "Popularity: 0\n",
      "Track Name: Skip Steps 1 & 3\n",
      "-----\n",
      "Popularity: 0\n",
      "Track Name: Sensitive\n",
      "-----\n",
      "Popularity: 24\n",
      "Track Name: The Pink\n",
      "-----\n",
      "Popularity: 21\n",
      "Track Name: Sleep The Clock Around\n",
      "-----\n",
      "Popularity: 0\n",
      "Track Name: Throwing Back the Apple\n",
      "-----\n",
      "Popularity: 0\n"
     ]
    }
   ],
   "source": [
    "# get song name and popularity\n",
    "for song_info in playlist_tracks['items']:\n",
    "    song_name = song_info['track']['name']\n",
    "    song_popularity = song_info['track']['popularity']\n",
    "    print(f\"Track Name: {song_name}\")\n",
    "    print(\"-----\")\n",
    "    print(f\"Popularity: {song_popularity}\")"
   ]
  },
  {
   "cell_type": "markdown",
   "id": "8a5b42d6-1a5b-448c-8d1e-1a4d69eff833",
   "metadata": {},
   "source": [
    "#### Suggestion 3. Print out the name, popularity, and artists of each track on the playlist. Or, if you'd like a shortcut, just pick the first artist."
   ]
  },
  {
   "cell_type": "code",
   "execution_count": 10,
   "id": "afc893cb-ee8b-4b98-ba49-8fa2d70a2a7f",
   "metadata": {},
   "outputs": [
    {
     "name": "stdout",
     "output_type": "stream",
     "text": [
      "Artist: Polaris\n",
      "Artist: Plumtree\n",
      "Artist: Lilys\n",
      "Artist: Pavement\n",
      "Artist: The Amps\n",
      "Artist: my bloody valentine\n",
      "Artist: The Boo Radleys\n",
      "Artist: Guided By Voices\n",
      "Artist: Veruca Salt\n",
      "Artist: Pinback\n",
      "Artist: Teenage Fanclub\n",
      "Artist: my bloody valentine\n",
      "Artist: Yo La Tengo\n",
      "Artist: Pavement\n",
      "Artist: Veruca Salt\n",
      "Artist: R.E.M.\n",
      "Artist: Teenage Fanclub\n",
      "Artist: Lush\n",
      "Artist: Velocity Girl\n",
      "Artist: Miracle Legion\n",
      "Artist: Pavement\n",
      "Artist: Ride\n",
      "Artist: Brittle Stars\n",
      "Artist: Ride\n",
      "Artist: The Boo Radleys\n",
      "Artist: Chapterhouse\n",
      "Artist: Stereolab\n",
      "Artist: The Ropers\n",
      "Artist: Guided By Voices\n",
      "Artist: Yo La Tengo\n",
      "Artist: Tiger Trap\n",
      "Artist: Beulah\n",
      "Artist: Ride\n",
      "Artist: Yo La Tengo\n",
      "Artist: The Magnetic Fields\n",
      "Artist: The Lemonheads\n",
      "Artist: The Smashing Pumpkins\n",
      "Artist: Stereolab\n",
      "Artist: The Replacements\n",
      "Artist: The Bats\n",
      "Artist: Yo La Tengo\n",
      "Artist: Black Tambourine\n",
      "Artist: Elliott Smith\n",
      "Artist: R.E.M.\n",
      "Artist: Guided By Voices\n",
      "Artist: Teenage Fanclub\n",
      "Artist: Ride\n",
      "Artist: The Breeders\n",
      "Artist: Yo La Tengo\n",
      "Artist: Noise Addict\n",
      "Artist: Superchunk\n",
      "Artist: of Montreal\n",
      "Artist: The Breeders\n",
      "Artist: Built To Spill\n",
      "Artist: Dinosaur Jr.\n",
      "Artist: Teenage Fanclub\n",
      "Artist: Pavement\n",
      "Artist: Polaris\n",
      "Artist: The Bats\n",
      "Artist: The Apples In Stereo\n",
      "Artist: Robert Schneider\n",
      "Artist: The Boo Radleys\n",
      "Artist: Stereolab\n",
      "Artist: Stephen Malkmus\n",
      "Artist: Cocteau Twins\n",
      "Artist: Sebadoh\n",
      "Artist: Pixies\n",
      "Artist: my bloody valentine\n",
      "Artist: Yo La Tengo\n",
      "Artist: Stereolab\n",
      "Artist: The Shins\n",
      "Artist: Teenage Fanclub\n",
      "Artist: Dinosaur Jr.\n",
      "Artist: The Breeders\n",
      "Artist: Black Tambourine\n",
      "Artist: Swirlies\n",
      "Artist: Matthew Sweet\n",
      "Artist: Modest Mouse\n",
      "Artist: Velocity Girl\n",
      "Artist: Ride\n",
      "Artist: Stereolab\n",
      "Artist: The Magnetic Fields\n",
      "Artist: Grandaddy\n",
      "Artist: Elliott Smith\n",
      "Artist: of Montreal\n",
      "Artist: The Field Mice\n",
      "Artist: Guided By Voices\n",
      "Artist: Beulah\n",
      "Artist: Pavement\n",
      "Artist: Grandaddy\n",
      "Artist: Dear Nora\n",
      "Artist: Belle and Sebastian\n",
      "Artist: my bloody valentine\n",
      "Artist: Yo La Tengo\n",
      "Artist: The Sundays\n",
      "Artist: Noise Addict\n",
      "Artist: Superchunk\n",
      "Artist: The Field Mice\n",
      "Artist: Medicine\n",
      "Artist: Belle and Sebastian\n",
      "Artist: Pale Saints\n"
     ]
    }
   ],
   "source": [
    "# since I got the name and popularity in question 2, I will just get the artist's name here.\n",
    "for song_info in playlist_tracks['items']:\n",
    "    for artist_info in song_info['track']['artists']:\n",
    "        song_artist = artist_info['name']\n",
    "        print(f\"Artist: {song_artist}\")"
   ]
  },
  {
   "cell_type": "code",
   "execution_count": 12,
   "id": "73a58c6d-e239-46ae-91d3-afe7ad0e5931",
   "metadata": {},
   "outputs": [
    {
     "data": {
      "text/plain": [
       "476"
      ]
     },
     "execution_count": 12,
     "metadata": {},
     "output_type": "execute_result"
    }
   ],
   "source": [
    "# Get the total numbers of tracks\n",
    "total_tracks = sp.playlist(playlist_id)['tracks']['total']\n",
    "total_tracks"
   ]
  },
  {
   "cell_type": "markdown",
   "id": "6bc8d39d-01f5-4e84-b13f-868fcf2cabc5",
   "metadata": {},
   "source": [
    "#### Suggestion 4. Instead of printing, use these to create a new dictionary each time you look at a track. \n",
    "###### Print out this dictionary. You should be printing out 476 dictionaries!(Included suggestioin 5 in the same cell below)"
   ]
  },
  {
   "cell_type": "code",
   "execution_count": 20,
   "id": "d3b17e30-c5ee-4184-bf36-e4cceae7150b",
   "metadata": {},
   "outputs": [],
   "source": [
    "# prepare for Suggestion 5, I made the empty list\n",
    "all_tracks = []\n",
    "\n",
    "# because the offset is 100, to get all information of all tracks, we have to make sure it does not stop with the limit 100\n",
    "for offset in range(0, total_tracks, 100):\n",
    "    playlist_tracks = sp.playlist_tracks(playlist_id, offset=offset, limit=100)\n",
    "    # Create a dictionary for the track\n",
    "    for song_info in playlist_tracks['items']:\n",
    "        track_info = {\n",
    "            'track name': song_info['track']['name'],\n",
    "            'popularity': song_info['track']['popularity'],\n",
    "            'artists': ', '.join([artist['name'] for artist in song_info['track']['artists']])\n",
    "            }\n",
    "        \n",
    "        all_tracks.append(track_info)"
   ]
  },
  {
   "cell_type": "markdown",
   "id": "0670d04c-63ad-4987-810f-d0533eedc201",
   "metadata": {},
   "source": [
    "#### Suggestion 6. When you're done, all_tracks should have 476 items in it"
   ]
  },
  {
   "cell_type": "code",
   "execution_count": 21,
   "id": "05ce2a9a-eb30-4976-bb8b-bd6637044d06",
   "metadata": {},
   "outputs": [
    {
     "data": {
      "text/plain": [
       "476"
      ]
     },
     "execution_count": 21,
     "metadata": {},
     "output_type": "execute_result"
    }
   ],
   "source": [
    "# check if I have 476 items in all_tracks\n",
    "len(all_tracks)"
   ]
  },
  {
   "cell_type": "markdown",
   "id": "c028e16c-e1da-4fb2-87d7-31c74fdd9889",
   "metadata": {},
   "source": [
    "#### Suggestion 7: Sort the list by popularity, take the top ten"
   ]
  },
  {
   "cell_type": "markdown",
   "id": "85039b22-4179-4c6f-981d-6d1f28a34572",
   "metadata": {},
   "source": [
    "##### I searched on \"stack overflow\" about how to sort a list of disctionaries\n",
    "##### https://stackoverflow.com/questions/8966538/syntax-behind-sortedkey-lambda"
   ]
  },
  {
   "cell_type": "code",
   "execution_count": 22,
   "id": "c0a9243b-b314-4e6f-946e-b728c3d048e4",
   "metadata": {},
   "outputs": [
    {
     "name": "stdout",
     "output_type": "stream",
     "text": [
      "[{'track name': '1979 - Remastered 2012', 'popularity': 77, 'artists': 'The Smashing Pumpkins'}, {'track name': 'Today - 2011 Remaster', 'popularity': 69, 'artists': 'The Smashing Pumpkins'}, {'track name': 'Halah', 'popularity': 67, 'artists': 'Mazzy Star'}, {'track name': 'Cherry-coloured Funk', 'popularity': 66, 'artists': 'Cocteau Twins'}, {'track name': 'Coffee & TV', 'popularity': 61, 'artists': 'Blur'}, {'track name': 'Drown', 'popularity': 60, 'artists': 'The Smashing Pumpkins'}, {'track name': 'When You Sleep', 'popularity': 59, 'artists': 'my bloody valentine'}, {'track name': 'She Bangs the Drums - Remastered 2009', 'popularity': 59, 'artists': 'The Stone Roses'}, {'track name': 'Lorelei', 'popularity': 54, 'artists': 'Cocteau Twins'}, {'track name': 'Blue Flower', 'popularity': 53, 'artists': 'Mazzy Star'}]\n"
     ]
    }
   ],
   "source": [
    "sorted_tracks = sorted(all_tracks, key=lambda x: x['popularity'], reverse=True)\n",
    "# take top ten\n",
    "top_ten_tracks = sorted_tracks[:10]\n",
    "print(top_ten_tracks)"
   ]
  },
  {
   "cell_type": "markdown",
   "id": "d20c5f7c-471e-42d6-bed4-a994f5e96737",
   "metadata": {},
   "source": [
    "### Question 1: What are the ten most popular songs on the playlist?"
   ]
  },
  {
   "cell_type": "code",
   "execution_count": 23,
   "id": "17b4ea69-565d-4971-87cc-73f61271c18f",
   "metadata": {},
   "outputs": [
    {
     "name": "stdout",
     "output_type": "stream",
     "text": [
      "The ten most popular songs on the playlist are:\n",
      "Song name: 1979 - Remastered 2012, popularity: 77\n",
      "-----\n",
      "Song name: Today - 2011 Remaster, popularity: 69\n",
      "-----\n",
      "Song name: Halah, popularity: 67\n",
      "-----\n",
      "Song name: Cherry-coloured Funk, popularity: 66\n",
      "-----\n",
      "Song name: Coffee & TV, popularity: 61\n",
      "-----\n",
      "Song name: Drown, popularity: 60\n",
      "-----\n",
      "Song name: When You Sleep, popularity: 59\n",
      "-----\n",
      "Song name: She Bangs the Drums - Remastered 2009, popularity: 59\n",
      "-----\n",
      "Song name: Lorelei, popularity: 54\n",
      "-----\n",
      "Song name: Blue Flower, popularity: 53\n",
      "-----\n"
     ]
    }
   ],
   "source": [
    "print(\"The ten most popular songs on the playlist are:\")\n",
    "\n",
    "for each_song in top_ten_tracks:\n",
    "    song_name = each_song['track name']\n",
    "    song_popularity = each_song['popularity']\n",
    "    print(f\"Song name: {song_name}, popularity: {song_popularity}\")\n",
    "    print(\"-----\")"
   ]
  },
  {
   "cell_type": "markdown",
   "id": "45c71600-73de-47a0-8172-4ed1418735f3",
   "metadata": {},
   "source": [
    "#### Suggestion 8: Filter the list by popularity, selecting only the ones with a popularity of 0"
   ]
  },
  {
   "cell_type": "code",
   "execution_count": 49,
   "id": "3f62595f-274d-4fbf-983f-054722cbecdb",
   "metadata": {},
   "outputs": [],
   "source": [
    "track_pop_0 = [track for track in all_tracks if track['popularity'] == 0]\n",
    "# track_pop_0"
   ]
  },
  {
   "cell_type": "markdown",
   "id": "6f7ebaff-ec72-496d-ad46-c30ee488edf9",
   "metadata": {},
   "source": [
    "### Question 2: (I break it into two parts)\n",
    "##### question 2.1 - What percentage of them have a popularity of zero?"
   ]
  },
  {
   "cell_type": "code",
   "execution_count": 30,
   "id": "cb812ca9-1696-43d8-a4ea-83ba48eab341",
   "metadata": {},
   "outputs": [],
   "source": [
    "num_pop_0 = len(track_pop_0)\n",
    "num_total = len(all_tracks)"
   ]
  },
  {
   "cell_type": "code",
   "execution_count": 38,
   "id": "204a1af8-f231-45e7-af48-cf9ea4976e58",
   "metadata": {},
   "outputs": [
    {
     "data": {
      "text/plain": [
       "'38.45 percent of them have a popularity of zero.'"
      ]
     },
     "execution_count": 38,
     "metadata": {},
     "output_type": "execute_result"
    }
   ],
   "source": [
    "percent = num_pop_0 / num_total * 100\n",
    "percent_rounded = round(percent, 2)\n",
    "f\"{percent_rounded} percent of them have a popularity of zero.\""
   ]
  },
  {
   "cell_type": "markdown",
   "id": "bbb8c8fc-ed90-47dd-9f5f-aa9eeb763a3e",
   "metadata": {},
   "source": [
    "#### question 2.2 - sorted by the band name."
   ]
  },
  {
   "cell_type": "markdown",
   "id": "65dcecc0-4a21-4fe7-8941-6e1f473114f7",
   "metadata": {},
   "source": [
    "##### I want to group the track names by the same band name. To do this, I need to create a seperate dictionary to include these information\n",
    "##### instead of creating an empty list, I searched python documentation (linked below) and learned to import `defaultdict`, \n",
    "##### which allows us to access dictionary entries that do not previously exist by assigning it a default value\n",
    "##### https://docs.python.org/3/library/collections.html#collections.defaultdict"
   ]
  },
  {
   "cell_type": "code",
   "execution_count": 60,
   "id": "41fc5b56-8064-42bd-8af4-02f12c7add90",
   "metadata": {},
   "outputs": [],
   "source": [
    "from collections import defaultdict\n",
    "tracks_groupBy_band = defaultdict(list)"
   ]
  },
  {
   "cell_type": "code",
   "execution_count": 64,
   "id": "2884540e-2ce9-4bfc-b6be-0ee00ddd1448",
   "metadata": {},
   "outputs": [],
   "source": [
    "# add track names in accordance to the band name in the dictionary tracks_groupBy_band\n",
    "for track in track_pop_0:\n",
    "      tracks_groupBy_band[track['artists']].append(track['track name'])"
   ]
  },
  {
   "cell_type": "code",
   "execution_count": 68,
   "id": "137fc86c-b438-4147-99a0-918bb28d54fc",
   "metadata": {},
   "outputs": [],
   "source": [
    "# sortef by band in alphabetical order\n",
    "sorted_track_byBand = sorted(tracks_groupBy_band.items())\n",
    "# check this list to make sure I added the right items\n",
    "# sorted_track_byBand"
   ]
  },
  {
   "cell_type": "code",
   "execution_count": 72,
   "id": "5d445de6-2dbc-4a21-8d16-4694f7aa3df9",
   "metadata": {},
   "outputs": [
    {
     "name": "stdout",
     "output_type": "stream",
     "text": [
      "Tracks in following bands have popularity of zero:\n",
      "Band name: A.R. Kane\n",
      "----- Track Name: When You're Sad\n",
      "Band name: Alison's Halo\n",
      "----- Track Name: Dozen\n",
      "Band name: Archers Of Loaf\n",
      "----- Track Name: Plumb Line\n",
      "----- Track Name: Web in Front\n",
      "Band name: Bailter Space\n",
      "----- Track Name: Splat\n",
      "Band name: Beat Happening\n",
      "----- Track Name: Noise\n",
      "----- Track Name: Godsend\n",
      "Band name: Beatnik Filmstars\n",
      "----- Track Name: Try Some to See\n",
      "Band name: Belle and Sebastian\n",
      "----- Track Name: Get Me Away From Here, I'm Dying\n",
      "----- Track Name: Sleep The Clock Around\n",
      "----- Track Name: The Boy With The Arab Strap\n",
      "----- Track Name: The Stars of Track and Field\n",
      "----- Track Name: If You're Feeling Sinister\n",
      "Band name: Black Tambourine\n",
      "----- Track Name: Lazy Heart\n",
      "----- Track Name: Throw Aggi Off the Bridge\n",
      "----- Track Name: For Ex-Lovers Only\n",
      "Band name: Built To Spill\n",
      "----- Track Name: Fling\n",
      "----- Track Name: Big Dipper\n",
      "Band name: Camera Obscura\n",
      "----- Track Name: I Don't Do Crowds\n",
      "Band name: Cocteau Twins\n",
      "----- Track Name: Bluebeard - Remastered 2006\n",
      "----- Track Name: Iceblink Luck\n",
      "----- Track Name: Summerhead\n",
      "Band name: Dinosaur Jr.\n",
      "----- Track Name: Keep The Glove\n",
      "Band name: Duster\n",
      "----- Track Name: Cooking\n",
      "----- Track Name: Gold Dust\n",
      "Band name: Elliott Smith\n",
      "----- Track Name: Rose Parade\n",
      "----- Track Name: Ballad Of Big Nothing\n",
      "Band name: Eric's Trip\n",
      "----- Track Name: Anytime You Want\n",
      "Band name: Flake Music\n",
      "----- Track Name: The Shins\n",
      "Band name: Galaxie 500\n",
      "----- Track Name: Strange\n",
      "Band name: Grandaddy\n",
      "----- Track Name: A.M. 180\n",
      "----- Track Name: Skateboarding Saves Me Twice\n",
      "Band name: Guided By Voices\n",
      "----- Track Name: The Best Of Jill Hives\n",
      "----- Track Name: Don’t Stop Now\n",
      "----- Track Name: Motor Away\n",
      "----- Track Name: Game Of Pricks\n",
      "----- Track Name: Blimps Go 90\n",
      "----- Track Name: Teenage FBI\n",
      "----- Track Name: My Kind Of Soldier\n",
      "Band name: Lois\n",
      "----- Track Name: Strumpet\n",
      "Band name: Lush\n",
      "----- Track Name: Sweetness and Light\n",
      "----- Track Name: Untogether\n",
      "----- Track Name: For Love\n",
      "----- Track Name: I Have The Moon\n",
      "Band name: McCarthy\n",
      "----- Track Name: Frans Hals\n",
      "----- Track Name: The Well Of Loneliness\n",
      "----- Track Name: Can The Haves Use Their Brains\n",
      "Band name: Modest Mouse\n",
      "----- Track Name: Polar Opposites\n",
      "Band name: Noise Addict\n",
      "----- Track Name: 16\n",
      "----- Track Name: Boyfriendship\n",
      "Band name: Pale Saints\n",
      "----- Track Name: Throwing Back the Apple\n",
      "----- Track Name: Half-Life, Remembered\n",
      "----- Track Name: Sight of You\n",
      "----- Track Name: Colours and Shapes\n",
      "----- Track Name: Fell from the Sun - Remastered\n",
      "Band name: Pavement\n",
      "----- Track Name: Frontwards\n",
      "----- Track Name: Nail Clinic\n",
      "----- Track Name: Box Elder\n",
      "----- Track Name: Elevate Me Later\n",
      "----- Track Name: Stereo\n",
      "----- Track Name: Starlings of the Slipstream\n",
      "----- Track Name: Summer Babe (Winter Version)\n",
      "----- Track Name: Gold Soundz\n",
      "----- Track Name: Cut Your Hair\n",
      "----- Track Name: Zurich Is Stained\n",
      "----- Track Name: Range Life\n",
      "----- Track Name: Soiled Little Filly\n",
      "----- Track Name: Folk Jam\n",
      "----- Track Name: Date w/IKEA\n",
      "----- Track Name: Blue Hawaiian\n",
      "----- Track Name: In The Mouth A Desert (Remastered)\n",
      "----- Track Name: Harness Your Hopes - (B-side)\n",
      "Band name: Pinback\n",
      "----- Track Name: Tripoli\n",
      "Band name: Pixies\n",
      "----- Track Name: Gouge Away\n",
      "----- Track Name: Havalina\n",
      "Band name: Red House Painters\n",
      "----- Track Name: New Jersey\n",
      "Band name: SEAGULL SCREAMING KISS HER KISS HER\n",
      "----- Track Name: ANGEL\n",
      "Band name: Sammy\n",
      "----- Track Name: Rudy\n",
      "Band name: Sebadoh\n",
      "----- Track Name: Rebound - Remastered\n",
      "----- Track Name: Magnet's Coil - Remastered\n",
      "----- Track Name: The Freed Pig\n",
      "----- Track Name: Got It - Remastered\n",
      "Band name: Sleater-Kinney\n",
      "----- Track Name: Modern Girl\n",
      "Band name: Spirea X\n",
      "----- Track Name: Chlorine Dream\n",
      "----- Track Name: Fire And Light\n",
      "Band name: Spraydog\n",
      "----- Track Name: Kissy Lips\n",
      "Band name: Stephen Malkmus\n",
      "----- Track Name: Post-Paint Boy\n",
      "Band name: Stereolab\n",
      "----- Track Name: The Light That Will Cease To Fail\n",
      "----- Track Name: John Cage Bubblegum\n",
      "----- Track Name: International Colouring Contest\n",
      "----- Track Name: Cybele's Reverie\n",
      "----- Track Name: Tone Burst [Country]\n",
      "----- Track Name: Lo Boob Oscillator\n",
      "----- Track Name: Brittle\n",
      "----- Track Name: Super-Electric\n",
      "----- Track Name: U.H.F. - M.F.P.\n",
      "----- Track Name: Harmonium\n",
      "Band name: Sugar\n",
      "----- Track Name: If I Can't Change Your Mind\n",
      "Band name: Superchunk\n",
      "----- Track Name: Seed Toss\n",
      "----- Track Name: Skip Steps 1 & 3\n",
      "----- Track Name: Throwing Things\n",
      "----- Track Name: Driveway to Driveway\n",
      "----- Track Name: Cursed Mirror\n",
      "----- Track Name: White Noise\n",
      "----- Track Name: It's So Hard to Fall in Love\n",
      "Band name: Teenage Fanclub\n",
      "----- Track Name: Everything Flows\n",
      "----- Track Name: Every Picture I Paint\n",
      "----- Track Name: Don't Need a Drum\n",
      "----- Track Name: Everything Flows\n",
      "----- Track Name: Everybody's Fool\n",
      "Band name: The Amps\n",
      "----- Track Name: First Revival\n",
      "----- Track Name: Pacer\n",
      "----- Track Name: I Am Decided\n",
      "----- Track Name: Just Like a Briar\n",
      "Band name: The Bats\n",
      "----- Track Name: Is That All I Get For My Heart\n",
      "Band name: The Bevis Frond\n",
      "----- Track Name: Splendid Isolation\n",
      "Band name: The Bigger Lovers\n",
      "----- Track Name: Forever is not So Long\n",
      "----- Track Name: I'm Here\n",
      "Band name: The Breeders\n",
      "----- Track Name: Fortunately Gone\n",
      "----- Track Name: Cannonball\n",
      "----- Track Name: Don't Call Home\n",
      "----- Track Name: Divine Hammer\n",
      "Band name: The Clean\n",
      "----- Track Name: Some One\n",
      "Band name: The Clientele\n",
      "----- Track Name: We Could Walk Together\n",
      "Band name: The Feelies\n",
      "----- Track Name: Raised Eyebrows\n",
      "Band name: The Lemonheads\n",
      "----- Track Name: Into Your Arms\n",
      "----- Track Name: Confetti - Remastered\n",
      "----- Track Name: If I Could Talk I'd Tell You\n",
      "----- Track Name: Alison's Starting To Happen - Remastered\n",
      "----- Track Name: The Turnpike Down - Remastered\n",
      "----- Track Name: Bit Part - Remastered\n",
      "Band name: The Magnetic Fields\n",
      "----- Track Name: Born on a Train\n",
      "----- Track Name: The Saddest Story Ever Told\n",
      "----- Track Name: I Think I Need a New Heart\n",
      "----- Track Name: The Flowers She Sent and the Flowers She Said She Sent\n",
      "----- Track Name: I Don't Want to Get Over You\n",
      "----- Track Name: Why I Cry\n",
      "----- Track Name: Desert Island\n",
      "Band name: The Olivia Tremor Control\n",
      "----- Track Name: Jumping Fences\n",
      "----- Track Name: Love Athena\n",
      "Band name: The Pastels\n",
      "----- Track Name: Nothing To Be Done\n",
      "----- Track Name: Thank You For Being You\n",
      "----- Track Name: Not Unloved\n",
      "Band name: The Shins\n",
      "----- Track Name: Know Your Onion!\n",
      "----- Track Name: Girl Inform Me\n",
      "----- Track Name: Pressed In A Book\n",
      "Band name: The Softies\n",
      "----- Track Name: Heart Condition\n",
      "Band name: The Springfields\n",
      "----- Track Name: Sunflower\n",
      "Band name: Throwing Muses\n",
      "----- Track Name: Not Too Soon\n",
      "Band name: Tiger Trap\n",
      "----- Track Name: My Broken Heart\n",
      "----- Track Name: Supreme Nothing\n",
      "----- Track Name: Puzzle Pieces\n",
      "----- Track Name: You're Sleeping\n",
      "Band name: Unrest\n",
      "----- Track Name: Make Out Club\n",
      "Band name: Velocity Girl\n",
      "----- Track Name: Marzipan\n",
      "----- Track Name: Pop Loser\n",
      "----- Track Name: I Can't Stop Smiling\n",
      "Band name: Velvet Crush\n",
      "----- Track Name: Drive Me Down\n",
      "----- Track Name: Drive Me Down\n",
      "Band name: Yo La Tengo\n",
      "----- Track Name: Barnaby, Hardly Working\n",
      "----- Track Name: Big Sky\n",
      "----- Track Name: Cherry Chapstick\n",
      "----- Track Name: Fog Over Frisco\n",
      "----- Track Name: Decora\n",
      "----- Track Name: Season of the Shark\n",
      "----- Track Name: Tom Courtenay\n",
      "----- Track Name: Sugarcube\n",
      "----- Track Name: Stockholm Syndrome\n",
      "----- Track Name: Drug Test\n",
      "----- Track Name: Autumn Sweater\n",
      "----- Track Name: From a Motel 6\n",
      "----- Track Name: Let's Save Tony Orlando's House\n",
      "----- Track Name: Return To Hot Chicken\n",
      "----- Track Name: Lewis\n",
      "----- Track Name: The Cone of Silence\n",
      "----- Track Name: 3 Blocks From Groove Street\n",
      "----- Track Name: Clunk\n",
      "Band name: of Montreal\n",
      "----- Track Name: Sleeping in the Beetle Bug\n",
      "----- Track Name: I Can't Stop Your Memory\n",
      "----- Track Name: Don't Ask Me to Explain\n",
      "----- Track Name: This Feeling (Dereks Theme)\n",
      "----- Track Name: Sleeping in the Beetle Bug\n",
      "----- Track Name: At Night Trees Aren't Sleeping\n"
     ]
    }
   ],
   "source": [
    "# display results\n",
    "print(\"Tracks in following bands have popularity of zero:\")\n",
    "\n",
    "for band, tracks in sorted_track_byBand: \n",
    "    print(f\"Band name: {band}\")\n",
    "    for track_name in tracks:\n",
    "        print(f\"----- Track Name: {track_name}\")  \n"
   ]
  },
  {
   "cell_type": "markdown",
   "id": "d28ff436-1050-4188-8261-d85d8ed85aac",
   "metadata": {},
   "source": [
    "### Question 3: Is popularity relative to the artist, the album, all songs on Spotify, or something else?"
   ]
  },
  {
   "cell_type": "markdown",
   "id": "10c030c8-5fdc-47b2-a860-3cb61abbc7de",
   "metadata": {},
   "source": [
    "##### Based on previous questions, I found 'popularity' is a key in the dictionary of each track (I examined this in line 8, by checking keys in the dictionary `playlist_tracks['items'][0]['track']`.) Since it is under individual track but not displayed under other dictionaries, I think popularity is directly related to each track rather than  to artists or albums.\n",
    "\n",
    "These webistes (linked below) also confirm my thoughts, saying that each track has its own index for popularity. Other factors may indirectly impact the song's index.\n",
    "\n",
    "https://community.spotify.com/t5/Spotify-for-Developers/question-about-the-popularity-score-of-an-artist/td-p/5795193\n",
    "\n",
    "https://www.loudlab.org/blog/spotify-popularity-leverage-algorithm/#:~:text=Each%20track%20has%20its%20own,down%20a%20song's%20popularity%20index."
   ]
  }
 ],
 "metadata": {
  "kernelspec": {
   "display_name": "Python 3 (ipykernel)",
   "language": "python",
   "name": "python3"
  },
  "language_info": {
   "codemirror_mode": {
    "name": "ipython",
    "version": 3
   },
   "file_extension": ".py",
   "mimetype": "text/x-python",
   "name": "python",
   "nbconvert_exporter": "python",
   "pygments_lexer": "ipython3",
   "version": "3.12.7"
  }
 },
 "nbformat": 4,
 "nbformat_minor": 5
}
