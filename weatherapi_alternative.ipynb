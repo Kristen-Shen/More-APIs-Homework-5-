{
 "cells": [
  {
   "cell_type": "markdown",
   "id": "2d39ca01-ed64-46d2-ba8b-8a2f3f28064d",
   "metadata": {},
   "source": [
    "#### Kristen Shen\n",
    "#### Homework 05 - Part One: A weatherapi alternative\n",
    "#### 11/11/2024"
   ]
  },
  {
   "cell_type": "markdown",
   "id": "b66fc8a8-2d32-4521-bf86-c2d7573c8898",
   "metadata": {},
   "source": [
    "### 1. Examine both Open Meteo and Tomorrow and decide which one you'd prefer to use. What drove your decision?"
   ]
  },
  {
   "cell_type": "markdown",
   "id": "2ec9b20e-4f48-4150-8d7e-8a63a4ad8736",
   "metadata": {},
   "source": [
    "##### I prefer to use Tomorrow. It has very clear documentation compared to Open Meteo, so I could find the urls for each inquery easily.\n",
    "##### I didn't find a very clear description on Open Meteo, and its documentation takes me more time to figure out.\n",
    "##### In addition, I love the fancy design on Tomorrow and its ability to record each of my inqueries and the corresponding response status code."
   ]
  },
  {
   "cell_type": "markdown",
   "id": "12b7cfad-7800-456a-b406-fa837db0f9dc",
   "metadata": {},
   "source": [
    "### 2. What is the URL to the documentation? (You don't use code for this one)"
   ]
  },
  {
   "cell_type": "markdown",
   "id": "c48a7436-9deb-4b47-9e4c-12de74c566f2",
   "metadata": {},
   "source": [
    "#### for Open Meteo\n",
    "##### https://open-meteo.com/en/docs\n",
    "\n",
    "#### for Tomorrow\n",
    "##### https://docs.tomorrow.io/reference/intro/getting-started"
   ]
  },
  {
   "cell_type": "markdown",
   "id": "8ad481ff-29f0-4ea1-8043-9041c0b4cc35",
   "metadata": {},
   "source": [
    "### 3. Make a request for the current weather where you are born, or somewhere you've lived."
   ]
  },
  {
   "cell_type": "code",
   "execution_count": 1,
   "id": "5a2b607c-5949-47a3-ab77-1ad8e3ade713",
   "metadata": {},
   "outputs": [
    {
     "data": {
      "text/plain": [
       "True"
      ]
     },
     "execution_count": 1,
     "metadata": {},
     "output_type": "execute_result"
    }
   ],
   "source": [
    "# not include my personal info here\n",
    "from dotenv import load_dotenv\n",
    "import os\n",
    "\n",
    "load_dotenv()"
   ]
  },
  {
   "cell_type": "code",
   "execution_count": 3,
   "id": "2a417cf2-be12-4209-b88a-527c714b9c81",
   "metadata": {},
   "outputs": [],
   "source": [
    "weather_key = os.getenv(\"API_KEY\")"
   ]
  },
  {
   "cell_type": "code",
   "execution_count": 5,
   "id": "a016473d-19e6-4540-9b59-6e0762176cb2",
   "metadata": {},
   "outputs": [],
   "source": [
    "# I requested current weather of Waterville, Maine. USA \n",
    "waterville_url = f\"https://api.tomorrow.io/v4/weather/realtime?location=04901&apikey={weather_key}\""
   ]
  },
  {
   "cell_type": "code",
   "execution_count": 6,
   "id": "71d2b65d-7d7f-4fd6-91bc-8c93bde963df",
   "metadata": {},
   "outputs": [
    {
     "data": {
      "text/plain": [
       "<Response [200]>"
      ]
     },
     "execution_count": 6,
     "metadata": {},
     "output_type": "execute_result"
    }
   ],
   "source": [
    "import requests\n",
    "response = requests.get(waterville_url)\n",
    "response"
   ]
  },
  {
   "cell_type": "code",
   "execution_count": 38,
   "id": "8b1be9b1-96d5-49cd-aa0a-b57d1db898ab",
   "metadata": {},
   "outputs": [],
   "source": [
    "# turn into dictionary\n",
    "waterville = response.json()\n",
    "# check what's in the dictionary\n",
    "# waterville"
   ]
  },
  {
   "cell_type": "code",
   "execution_count": 92,
   "id": "bf779c33-6f37-49c5-b926-e010ad701dfa",
   "metadata": {},
   "outputs": [],
   "source": [
    "# check the keys in this dictionary\n",
    "# waterville.keys()"
   ]
  },
  {
   "cell_type": "code",
   "execution_count": 93,
   "id": "878be6b0-0acf-4085-bf1f-602740185501",
   "metadata": {},
   "outputs": [],
   "source": [
    "# check the data type of waterville['location']['name']\n",
    "# type(waterville['location']['name'])"
   ]
  },
  {
   "cell_type": "code",
   "execution_count": 94,
   "id": "02d89c2f-7fb5-4c2a-b826-3848c46be9a8",
   "metadata": {},
   "outputs": [],
   "source": [
    "# convert the strings to a list to get the country's name\n",
    "location = waterville['location']['name'].split()\n",
    "# location"
   ]
  },
  {
   "cell_type": "markdown",
   "id": "dcf19b68-28ca-4fbf-9917-83d607acabeb",
   "metadata": {},
   "source": [
    "### 4. Print out the country this location is in."
   ]
  },
  {
   "cell_type": "code",
   "execution_count": 28,
   "id": "f14f948d-4ffd-4a8c-a209-8828394562c8",
   "metadata": {},
   "outputs": [
    {
     "data": {
      "text/plain": [
       "'This location is in United States.'"
      ]
     },
     "execution_count": 28,
     "metadata": {},
     "output_type": "execute_result"
    }
   ],
   "source": [
    "f\"This location is in {location[-2]} {location[-1]}.\""
   ]
  },
  {
   "cell_type": "markdown",
   "id": "ef92e745-4667-47f9-b407-d293c4283f3d",
   "metadata": {},
   "source": [
    "### 5. Print out the difference between the current temperature and how warm it feels. \n",
    "#### Use \"It feels ___ degrees colder\" or \"It feels ___ degrees warmer,\" not negative numbers."
   ]
  },
  {
   "cell_type": "markdown",
   "id": "bea54e2c-dfcb-43ef-bd1e-eb6186e79ace",
   "metadata": {},
   "source": [
    "#### \"temperatureApparent\" is the weather it feels\n",
    "#### https://en.wikipedia.org/wiki/Apparent_temperature"
   ]
  },
  {
   "cell_type": "code",
   "execution_count": 32,
   "id": "222361fb-3f6d-42de-9415-77fd37c170d9",
   "metadata": {},
   "outputs": [
    {
     "data": {
      "text/plain": [
       "0.0"
      ]
     },
     "execution_count": 32,
     "metadata": {},
     "output_type": "execute_result"
    }
   ],
   "source": [
    "diff = waterville['data']['values']['temperature']-waterville['data']['values']['temperatureApparent']\n",
    "# diff"
   ]
  },
  {
   "cell_type": "code",
   "execution_count": 34,
   "id": "2515a107-cfa5-4e7f-9b97-b3f9687e97e3",
   "metadata": {},
   "outputs": [
    {
     "data": {
      "text/plain": [
       "'It feels 0.0 degree colder, so there is no difference between the current temperature and how warm it feels.'"
      ]
     },
     "execution_count": 34,
     "metadata": {},
     "output_type": "execute_result"
    }
   ],
   "source": [
    "f\"It feels {diff} degree colder, so there is no difference between the current temperature and how warm it feels.\""
   ]
  },
  {
   "cell_type": "markdown",
   "id": "1c92ac7a-8a9d-4db2-adc7-1583e5c79873",
   "metadata": {},
   "source": [
    "### 6. What's the current temperature at Heathrow International Airport? "
   ]
  },
  {
   "cell_type": "code",
   "execution_count": 7,
   "id": "52ab66db-f31c-4c9d-a2bc-a1758b79594e",
   "metadata": {},
   "outputs": [],
   "source": [
    "heathrow_url = f\"https://api.tomorrow.io/v4/weather/realtime?location=heathrow%20airport&apikey={weather_key}\""
   ]
  },
  {
   "cell_type": "code",
   "execution_count": 8,
   "id": "8ee7f278-a0d1-433b-8196-f895270d19bb",
   "metadata": {},
   "outputs": [
    {
     "data": {
      "text/plain": [
       "<Response [200]>"
      ]
     },
     "execution_count": 8,
     "metadata": {},
     "output_type": "execute_result"
    }
   ],
   "source": [
    "response = requests.get(heathrow_url)\n",
    "response"
   ]
  },
  {
   "cell_type": "code",
   "execution_count": 95,
   "id": "feff98e8-b359-459d-b1ea-4b8ad2e7ff8d",
   "metadata": {},
   "outputs": [],
   "source": [
    "# turn into dictionary\n",
    "heathrow = response.json()\n",
    "# check what's in the dictionary\n",
    "# heathrow"
   ]
  },
  {
   "cell_type": "code",
   "execution_count": 42,
   "id": "5537c2dd-b555-4ce0-9c8b-c89275532737",
   "metadata": {},
   "outputs": [
    {
     "data": {
      "text/plain": [
       "'Current temperature at Heathrow International Airport is 10.38 degrees Celsius'"
      ]
     },
     "execution_count": 42,
     "metadata": {},
     "output_type": "execute_result"
    }
   ],
   "source": [
    "F\"Current temperature at Heathrow International Airport is {heathrow['data']['values']['temperature']} degrees Celsius\""
   ]
  },
  {
   "cell_type": "markdown",
   "id": "75f24bea-231b-4f49-aa94-1d396f03f32d",
   "metadata": {},
   "source": [
    "### 7. What URL would I use to request a 3-day forecast at Heathrow?"
   ]
  },
  {
   "cell_type": "code",
   "execution_count": 55,
   "id": "1cad408d-e804-4f2d-83a1-88e5fa9018bd",
   "metadata": {},
   "outputs": [],
   "source": [
    "# I got this from open meteo; above questions are all from Tomorrow\n",
    "three_forecast_url = 'https://api.open-meteo.com/v1/forecast?latitude=52.52&longitude=-0.4551&forecast_days=3&daily=temperature_2m_max'"
   ]
  },
  {
   "cell_type": "code",
   "execution_count": 56,
   "id": "737eb6cc-3d15-4636-923c-0b388ec5506a",
   "metadata": {},
   "outputs": [
    {
     "data": {
      "text/plain": [
       "<Response [200]>"
      ]
     },
     "execution_count": 56,
     "metadata": {},
     "output_type": "execute_result"
    }
   ],
   "source": [
    "response = requests.get(three_forecast_url)\n",
    "response"
   ]
  },
  {
   "cell_type": "code",
   "execution_count": 96,
   "id": "adcb31b3-acf3-4cf9-98c3-687d766ec189",
   "metadata": {
    "scrolled": true
   },
   "outputs": [],
   "source": [
    "heathrow_three = response.json()\n",
    "# check what is in this dictionary\n",
    "# heathrow_three"
   ]
  },
  {
   "cell_type": "markdown",
   "id": "ecb82121-e3b6-4269-a53f-f7638eef6237",
   "metadata": {},
   "source": [
    "### 8. Print the date of each of the 3 days you're getting a forecast for."
   ]
  },
  {
   "cell_type": "code",
   "execution_count": 70,
   "id": "17a7ed06-6d08-444b-bd8f-6a18ebbb00c7",
   "metadata": {},
   "outputs": [
    {
     "data": {
      "text/plain": [
       "'I got weather forecast for these 3 days: 2024-11-07 2024-11-08 2024-11-09'"
      ]
     },
     "execution_count": 70,
     "metadata": {},
     "output_type": "execute_result"
    }
   ],
   "source": [
    "# turn the list to string for better printed result\n",
    "dates = ' '.join(heathrow_three['daily']['time'])\n",
    "f\"I got weather forecast for these 3 days: {dates}.\""
   ]
  },
  {
   "cell_type": "markdown",
   "id": "3119f157-e99f-46b9-abbd-37354c78fd27",
   "metadata": {},
   "source": [
    "### 9. Print the maximum temperature of each of the days."
   ]
  },
  {
   "cell_type": "code",
   "execution_count": 89,
   "id": "cdc57ef4-c55c-474c-8927-93a6a7f1d816",
   "metadata": {},
   "outputs": [
    {
     "name": "stdout",
     "output_type": "stream",
     "text": [
      "The maximum temperature for 2024-11-07 is 12.6 degrees Celsius.\n",
      "The maximum temperature for 2024-11-08 is 9.7 degrees Celsius.\n",
      "The maximum temperature for 2024-11-09 is 8.7 degrees Celsius.\n"
     ]
    }
   ],
   "source": [
    "# I used the `zip` function so that each date can have its corresponding max temperature.\n",
    "for date, temperature_max in zip(heathrow_three['daily']['time'], heathrow_three['daily']['temperature_2m_max']):\n",
    "    print(f\"The maximum temperature for {date} is {temperature_max} degrees Celsius.\")"
   ]
  },
  {
   "cell_type": "markdown",
   "id": "d3c59519-46b9-477c-a740-da657aeab4e9",
   "metadata": {},
   "source": [
    "### 10. Print only the day with the highest maximum temperature."
   ]
  },
  {
   "cell_type": "code",
   "execution_count": 91,
   "id": "f32aef1f-9e3f-4d4b-91e9-b8f9bd483c6c",
   "metadata": {},
   "outputs": [
    {
     "name": "stdout",
     "output_type": "stream",
     "text": [
      "2024-11-07 has the highest maximum temperature, which is 12.6 degrees Celsius.\n"
     ]
    }
   ],
   "source": [
    "# find the highest maximum temperature\n",
    "high_max_temp = max(heathrow_three['daily']['temperature_2m_max'])\n",
    "# find the corresponding date\n",
    "for day, temperature_max in zip(heathrow_three['daily']['time'], heathrow_three['daily']['temperature_2m_max']):\n",
    "    if temperature_max == high_max_temp:\n",
    "        print(f\"{day} has the highest maximum temperature, which is {temperature_max} degrees Celsius.\")"
   ]
  },
  {
   "cell_type": "markdown",
   "id": "9e73f378-ae0a-4a70-996d-ee21d8c1c2e6",
   "metadata": {},
   "source": [
    "### 11. Did you find this easier or more difficult than using the weatherapi.com, and why? \n",
    "#### Which would you recommend to someone interesting in building a tool around weather information?"
   ]
  },
  {
   "cell_type": "markdown",
   "id": "b37ec3e2-77cf-4c75-b615-b26c95c3b0b2",
   "metadata": {},
   "source": [
    "##### I think it is easier to use the weatherapi.com because the documentation on it is very clear, so I could easily follow it to see which url I should use for my inqueries.\n",
    "##### Comparaitively, the Open Meteo documentation is less clear, and I had to figure out what parameters and endpoint I should use.\n",
    "##### For Tomorrow, I enjoyed its clearly divided sections and fancy page designs. But I found it do not include forecast for more than 1 day, which I think is a limitation for people want to build a tool regarding weather information with comprehensive functionx.\n",
    "\n",
    "##### Thus, overall, I would recommend weatherapi.com for building the tool. \n",
    "##### Or, if this person is really professional with an expertise in API related works, I would say that the Opem Meteo one also works as it also includes various information about weather (as long as you can figure out how to find the urls and the parameters.)"
   ]
  }
 ],
 "metadata": {
  "kernelspec": {
   "display_name": "Python 3 (ipykernel)",
   "language": "python",
   "name": "python3"
  },
  "language_info": {
   "codemirror_mode": {
    "name": "ipython",
    "version": 3
   },
   "file_extension": ".py",
   "mimetype": "text/x-python",
   "name": "python",
   "nbconvert_exporter": "python",
   "pygments_lexer": "ipython3",
   "version": "3.12.7"
  }
 },
 "nbformat": 4,
 "nbformat_minor": 5
}
